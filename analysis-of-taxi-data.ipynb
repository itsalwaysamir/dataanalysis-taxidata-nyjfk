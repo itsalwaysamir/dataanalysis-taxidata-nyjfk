{
 "cells": [
  {
   "cell_type": "code",
   "execution_count": 1,
   "id": "d1262cc3",
   "metadata": {
    "_cell_guid": "b1076dfc-b9ad-4769-8c92-a6c4dae69d19",
    "_uuid": "8f2839f25d086af736a60e9eeb907d3b93b6e0e5",
    "execution": {
     "iopub.execute_input": "2023-01-31T17:07:48.980326Z",
     "iopub.status.busy": "2023-01-31T17:07:48.979869Z",
     "iopub.status.idle": "2023-01-31T17:07:49.005712Z",
     "shell.execute_reply": "2023-01-31T17:07:49.004811Z"
    },
    "papermill": {
     "duration": 0.035984,
     "end_time": "2023-01-31T17:07:49.009096",
     "exception": false,
     "start_time": "2023-01-31T17:07:48.973112",
     "status": "completed"
    },
    "tags": []
   },
   "outputs": [
    {
     "name": "stdout",
     "output_type": "stream",
     "text": [
      "/kaggle/input/ny-taxi-data-2016/NY_Taxi_Data_2016.csv\n"
     ]
    }
   ],
   "source": [
    "# This Python 3 environment comes with many helpful analytics libraries installed\n",
    "# It is defined by the kaggle/python Docker image: https://github.com/kaggle/docker-python\n",
    "# For example, here's several helpful packages to load\n",
    "\n",
    "import numpy as np # linear algebra\n",
    "import pandas as pd # data processing, CSV file I/O (e.g. pd.read_csv)\n",
    "\n",
    "# Input data files are available in the read-only \"../input/\" directory\n",
    "# For example, running this (by clicking run or pressing Shift+Enter) will list all files under the input directory\n",
    "\n",
    "import os\n",
    "for dirname, _, filenames in os.walk('/kaggle/input'):\n",
    "    for filename in filenames:\n",
    "        print(os.path.join(dirname, filename))\n",
    "\n",
    "# You can write up to 20GB to the current directory (/kaggle/working/) that gets preserved as output when you create a version using \"Save & Run All\" \n",
    "# You can also write temporary files to /kaggle/temp/, but they won't be saved outside of the current session"
   ]
  },
  {
   "cell_type": "markdown",
   "id": "7e64564c",
   "metadata": {
    "papermill": {
     "duration": 0.0026,
     "end_time": "2023-01-31T17:07:49.015670",
     "exception": false,
     "start_time": "2023-01-31T17:07:49.013070",
     "status": "completed"
    },
    "tags": []
   },
   "source": [
    "#  Scenario\n",
    "A taxi company in New York City (NYC) decided  wants to optimize the number of cabs waiting at JFK International Airport. The airport is well off the main Manhattan business district. As a result, it takes a very long time for taxis waiting there to be available for other areas. On the other hand, guests arriving at the airport usually cover longer and therefore more lucrative routes. So how many cabs should the cab operator provide at JFK?\n",
    "\n",
    "\n",
    "![A service run by Via and Curb will give travelers in Manhattan the option of sharing a yellow cab with someone for a reduced fare.Credit...Joshua Bright for The New York Times](https://static01.nyt.com/images/2017/06/07/nyregion/07TAXI1/07TAXI1-superJumbo.jpg?quality=75&auto=webp)\n",
    "\n",
    "In order to examine this questions, the company provides us with the data he collected from 2016 in the file NY_Taxi_Data_2016.csv\n",
    "\n",
    "\n",
    "The following tasks have to be solved:\n",
    "* What is the overall percentage of taxis booked from the airport (JFK)? This evaluation is therefore represented by the following formula:\n",
    "# $Share_{JFK} = \\frac{Trips_{JFK}}{Trips_{Overall}}$\n",
    "* Where are taxis taken in New York? \n",
    "* What is the percentage of taxis booked from the airport per day of the week? On which day of the week is the highest proportion and when is the lowest?\n",
    "# $Share_{Weekdays,JFK} = \\frac{Trips_{Weekdays,JFK}}{Trips_{Weekdays,Overall}}$\n",
    "* How much a day of the week contributes to the total number of trips? This should be done for the trips from the airport as well as for the entire set in order to be able to identify any differences.\n",
    "# $Share_{Weekdays,Overall} = \\frac{Trips_{Weekdays,Overall}}{Trips_{All Days,Overall}}$\n",
    "# $Share_{Weekdays,JFK} = \\frac{Trips_{Weekdays,JFK}}{Trips_{All Days,JFK}}$\n",
    "* The proportion of a time in the total number of journeys. This should be done for the trips from the airport as well as for the entire set in order to be able to identify any differences\n",
    "# $Share_{Time,Overall} = \\frac{Trips_{Time,Overall}}{Trips_{All Time,Overall}}$\n",
    "# $Share_{Time,JFK} = \\frac{Trips_{Time,JFK}}{Trips_{All Time,JFK}}$\n",
    "\n",
    "\n",
    "By the way, the coordinates of New York City are something like this:\n",
    "\n",
    "| Variable     | Value    | Description                        |\n",
    "|--------------|----------|------------------------------------|\n",
    "| nyc_max_lat  | 40.9176  | Maximum latitude of New York City  |\n",
    "| nyc_min_lat  | 40.5774  | Minimum latitude of New York City  |\n",
    "| nyc_max_long | -73.7004 | Maximum longitude of New York City |\n",
    "| nyc_min_long | -74.15   | Minimum longitude of New York City |\n",
    "\n",
    "\n",
    "The data is structured as follows:\n",
    "\n",
    "| Column Number | Column Name         | Data Type             | Description                                                     |\n",
    "|---------------|---------------------|-----------------------|-----------------------------------------------------------------|\n",
    "| 0             | 'pickup_weekday'    | categorical (ordinal) | Day of the week on which the trip started (0=Monday, 6=Sunday)  |\n",
    "| 1             | 'pickup_hour'       | categorical (ordinal) | Hour in which the pickup started                                |\n",
    "| 2             | 'pickup_longitude'  | numeric (float)       | Longitude at which pickup started                               |\n",
    "| 3             | 'pickup_latitude'   | numeric (float)       | Latitude where the pickup started                               |\n",
    "| 4             | 'dropoff_longitude' | numeric (float)       | Longitude at which trip ended                                   |\n",
    "| 5             | 'dropoff_latitude'  | numeric (float)       | Latitude at which the trip ended                                |\n",
    "| 6             | 'passenger_count'   | categorical (ordinal) | Number of passengers in the car.                                |\n",
    "| 7             | 'trip_distance'     | numeric (float)       | Traveled distance in miles                                      |\n",
    "| 8             | 'fare_amount'       | numeric (float)       | Amount that the taximeter calculates based on time and distance |\n",
    "| 9             | 'tip_amount'        | numeric (float)       | Tip given when paying by card (0.00 when paying in cash)        |\n",
    "| 10            | 'tolls_amount'      | numeric (float)       | Tolls incurred                                                  |\n",
    "| 11            | 'payment_type'      | categorical (nominal) | Type of payment (1=credit card, 2=cash, 3=no fee, 4=dispute)    |\n",
    "\n",
    "\n",
    "In order to determine which trips depart from JFK Airport, you are given the following coordinates:\n",
    "\n",
    "| Variable     | Value    | Description                               |\n",
    "|--------------|----------|-------------------------------------------|\n",
    "| jfk_max_lat  | 40.66018 | Maximum pickup latitude of airport rides  |\n",
    "| jfk_min_lat  | 40.62666 | Minimum pickup latitude of airport rides  |\n",
    "| jfk_max_long | -73.76599| Maximum pickup longitude of airport rides |\n",
    "| jfk_min_long | -73.80822| Minimum pickup longitude of airport rides |\n",
    "\n",
    "By the way, the coordinates of New York City are something like this:\n",
    "\n",
    "| Variable     | Value    | Description                                |\n",
    "|--------------|----------|--------------------------------------------|\n",
    "| nyc_max_lat  | 40.9176  | Maximum pickup latitude of  New York City  |\n",
    "| nyc_min_lat  | 40.5774  | Minimum pickup latitude of  New York City  |\n",
    "| nyc_max_long |-73.7004  | Maximum pickup longitude of  New York City |\n",
    "| nyc_min_long | -74.15   | Minimum pickup longitude of  New York City |"
   ]
  },
  {
   "cell_type": "markdown",
   "id": "88580467",
   "metadata": {
    "papermill": {
     "duration": 0.002529,
     "end_time": "2023-01-31T17:07:49.021165",
     "exception": false,
     "start_time": "2023-01-31T17:07:49.018636",
     "status": "completed"
    },
    "tags": []
   },
   "source": [
    "# **Data Gathering and Cleaning**"
   ]
  },
  {
   "cell_type": "code",
   "execution_count": 2,
   "id": "93d7b9f2",
   "metadata": {
    "execution": {
     "iopub.execute_input": "2023-01-31T17:07:49.029144Z",
     "iopub.status.busy": "2023-01-31T17:07:49.028355Z",
     "iopub.status.idle": "2023-01-31T17:07:49.650711Z",
     "shell.execute_reply": "2023-01-31T17:07:49.649492Z"
    },
    "papermill": {
     "duration": 0.629137,
     "end_time": "2023-01-31T17:07:49.653054",
     "exception": false,
     "start_time": "2023-01-31T17:07:49.023917",
     "status": "completed"
    },
    "tags": []
   },
   "outputs": [
    {
     "data": {
      "text/html": [
       "<div>\n",
       "<style scoped>\n",
       "    .dataframe tbody tr th:only-of-type {\n",
       "        vertical-align: middle;\n",
       "    }\n",
       "\n",
       "    .dataframe tbody tr th {\n",
       "        vertical-align: top;\n",
       "    }\n",
       "\n",
       "    .dataframe thead th {\n",
       "        text-align: right;\n",
       "    }\n",
       "</style>\n",
       "<table border=\"1\" class=\"dataframe\">\n",
       "  <thead>\n",
       "    <tr style=\"text-align: right;\">\n",
       "      <th></th>\n",
       "      <th>pickup_weekday</th>\n",
       "      <th>pickup_hour</th>\n",
       "      <th>pickup_longitude</th>\n",
       "      <th>pickup_latitude</th>\n",
       "      <th>dropoff_longitude</th>\n",
       "      <th>dropoff_latitude</th>\n",
       "      <th>passenger_count</th>\n",
       "      <th>trip_distance</th>\n",
       "      <th>fare_amount</th>\n",
       "      <th>tip_amount</th>\n",
       "      <th>tolls_amount</th>\n",
       "      <th>payment_type</th>\n",
       "    </tr>\n",
       "  </thead>\n",
       "  <tbody>\n",
       "    <tr>\n",
       "      <th>0</th>\n",
       "      <td>3</td>\n",
       "      <td>19</td>\n",
       "      <td>-73.789970</td>\n",
       "      <td>40.646660</td>\n",
       "      <td>-74.005051</td>\n",
       "      <td>40.748081</td>\n",
       "      <td>1</td>\n",
       "      <td>18.610001</td>\n",
       "      <td>52.0</td>\n",
       "      <td>10.00</td>\n",
       "      <td>5.54</td>\n",
       "      <td>1</td>\n",
       "    </tr>\n",
       "    <tr>\n",
       "      <th>1</th>\n",
       "      <td>5</td>\n",
       "      <td>3</td>\n",
       "      <td>-73.986237</td>\n",
       "      <td>40.746513</td>\n",
       "      <td>-73.996796</td>\n",
       "      <td>40.742504</td>\n",
       "      <td>1</td>\n",
       "      <td>0.990000</td>\n",
       "      <td>5.0</td>\n",
       "      <td>1.00</td>\n",
       "      <td>0.00</td>\n",
       "      <td>1</td>\n",
       "    </tr>\n",
       "    <tr>\n",
       "      <th>2</th>\n",
       "      <td>4</td>\n",
       "      <td>20</td>\n",
       "      <td>-73.874634</td>\n",
       "      <td>40.773960</td>\n",
       "      <td>-73.959923</td>\n",
       "      <td>40.762802</td>\n",
       "      <td>3</td>\n",
       "      <td>9.250000</td>\n",
       "      <td>26.5</td>\n",
       "      <td>8.34</td>\n",
       "      <td>5.54</td>\n",
       "      <td>1</td>\n",
       "    </tr>\n",
       "    <tr>\n",
       "      <th>3</th>\n",
       "      <td>5</td>\n",
       "      <td>2</td>\n",
       "      <td>-73.952477</td>\n",
       "      <td>40.772064</td>\n",
       "      <td>-73.949371</td>\n",
       "      <td>40.675156</td>\n",
       "      <td>1</td>\n",
       "      <td>9.200000</td>\n",
       "      <td>28.0</td>\n",
       "      <td>0.00</td>\n",
       "      <td>0.00</td>\n",
       "      <td>2</td>\n",
       "    </tr>\n",
       "    <tr>\n",
       "      <th>4</th>\n",
       "      <td>4</td>\n",
       "      <td>21</td>\n",
       "      <td>-73.988281</td>\n",
       "      <td>40.764488</td>\n",
       "      <td>-73.996513</td>\n",
       "      <td>40.753239</td>\n",
       "      <td>1</td>\n",
       "      <td>0.900000</td>\n",
       "      <td>5.0</td>\n",
       "      <td>1.26</td>\n",
       "      <td>0.00</td>\n",
       "      <td>1</td>\n",
       "    </tr>\n",
       "  </tbody>\n",
       "</table>\n",
       "</div>"
      ],
      "text/plain": [
       "   pickup_weekday  pickup_hour  pickup_longitude  pickup_latitude  \\\n",
       "0               3           19        -73.789970        40.646660   \n",
       "1               5            3        -73.986237        40.746513   \n",
       "2               4           20        -73.874634        40.773960   \n",
       "3               5            2        -73.952477        40.772064   \n",
       "4               4           21        -73.988281        40.764488   \n",
       "\n",
       "   dropoff_longitude  dropoff_latitude  passenger_count  trip_distance  \\\n",
       "0         -74.005051         40.748081                1      18.610001   \n",
       "1         -73.996796         40.742504                1       0.990000   \n",
       "2         -73.959923         40.762802                3       9.250000   \n",
       "3         -73.949371         40.675156                1       9.200000   \n",
       "4         -73.996513         40.753239                1       0.900000   \n",
       "\n",
       "   fare_amount  tip_amount  tolls_amount  payment_type  \n",
       "0         52.0       10.00          5.54             1  \n",
       "1          5.0        1.00          0.00             1  \n",
       "2         26.5        8.34          5.54             1  \n",
       "3         28.0        0.00          0.00             2  \n",
       "4          5.0        1.26          0.00             1  "
      ]
     },
     "metadata": {},
     "output_type": "display_data"
    },
    {
     "data": {
      "text/plain": [
       "pickup_weekday         int16\n",
       "pickup_hour            int16\n",
       "pickup_longitude     float32\n",
       "pickup_latitude      float32\n",
       "dropoff_longitude    float32\n",
       "dropoff_latitude     float32\n",
       "passenger_count        int16\n",
       "trip_distance        float32\n",
       "fare_amount          float32\n",
       "tip_amount           float32\n",
       "tolls_amount         float32\n",
       "payment_type           int16\n",
       "dtype: object"
      ]
     },
     "metadata": {},
     "output_type": "display_data"
    }
   ],
   "source": [
    "# Import required libraries: pandas and numpy\n",
    "import pandas as pd\n",
    "import numpy as np\n",
    "\n",
    "##### Remarks ####\n",
    "# method pd.read_csv offers dtype parameter by which data taype to each column can be manually assigned.\n",
    "# This is required to significantly reduce the RAM required for storing numbers.or example, by default\n",
    "# whole numbers are read as int64, i.e. each number requires 64 bits in memory. The larger this value,\n",
    "# the larger whole numbers can be stored. For floating point numbers, the precision with which they are stored increases.\n",
    "# However, our data is in an area that does not require such a large memory size. If the numbers are read in as int32,\n",
    "# for example, only half the RAM is required by the DataFrame.With the following dictionary you can read in the data record with little memory:\n",
    "# read and check the data\n",
    "col_dtypes = {'pickup_weekday': 'int16', \n",
    "              'pickup_hour': 'int16', \n",
    "              'pickup_longitude': 'float32', \n",
    "              'pickup_latitude': 'float32', \n",
    "              'dropoff_longitude': 'float32', \n",
    "              'dropoff_latitude': 'float32', \n",
    "              'passenger_count': 'int16', \n",
    "              'trip_distance': 'float32', \n",
    "              'fare_amount': 'float32', \n",
    "              'tip_amount': 'float32', \n",
    "              'tolls_amount': 'float32', \n",
    "              'payment_type': 'int16'}\n",
    "# Read data\n",
    "df = pd.read_csv('/kaggle/input/ny-taxi-data-2016/NY_Taxi_Data_2016.csv', dtype=col_dtypes)\n",
    "display(df.head())\n",
    "\n",
    "# Check the data types\n",
    "display(df.dtypes)"
   ]
  },
  {
   "cell_type": "code",
   "execution_count": 3,
   "id": "8ede0ef9",
   "metadata": {
    "execution": {
     "iopub.execute_input": "2023-01-31T17:07:49.661073Z",
     "iopub.status.busy": "2023-01-31T17:07:49.660661Z",
     "iopub.status.idle": "2023-01-31T17:07:49.725372Z",
     "shell.execute_reply": "2023-01-31T17:07:49.723446Z"
    },
    "papermill": {
     "duration": 0.071797,
     "end_time": "2023-01-31T17:07:49.728064",
     "exception": false,
     "start_time": "2023-01-31T17:07:49.656267",
     "status": "completed"
    },
    "tags": []
   },
   "outputs": [
    {
     "name": "stdout",
     "output_type": "stream",
     "text": [
      "<class 'pandas.core.frame.DataFrame'>\n",
      "RangeIndex: 300000 entries, 0 to 299999\n",
      "Data columns (total 12 columns):\n",
      " #   Column             Non-Null Count   Dtype   \n",
      "---  ------             --------------   -----   \n",
      " 0   pickup_weekday     300000 non-null  category\n",
      " 1   pickup_hour        300000 non-null  category\n",
      " 2   pickup_longitude   300000 non-null  float32 \n",
      " 3   pickup_latitude    300000 non-null  float32 \n",
      " 4   dropoff_longitude  300000 non-null  float32 \n",
      " 5   dropoff_latitude   300000 non-null  float32 \n",
      " 6   passenger_count    300000 non-null  category\n",
      " 7   trip_distance      300000 non-null  float32 \n",
      " 8   fare_amount        300000 non-null  float32 \n",
      " 9   tip_amount         300000 non-null  float32 \n",
      " 10  tolls_amount       300000 non-null  float32 \n",
      " 11  payment_type       300000 non-null  category\n",
      "dtypes: category(4), float32(8)\n",
      "memory usage: 10.3 MB\n"
     ]
    }
   ],
   "source": [
    "# Scaling categorial data\n",
    "categorial_col = ['pickup_weekday','pickup_hour','passenger_count','payment_type']\n",
    "df.loc[:,categorial_col] = df.loc[:,categorial_col].astype('category')\n",
    "\n",
    "# Check the data type again   \n",
    "df.info()"
   ]
  },
  {
   "cell_type": "code",
   "execution_count": 4,
   "id": "817c1a88",
   "metadata": {
    "execution": {
     "iopub.execute_input": "2023-01-31T17:07:49.736501Z",
     "iopub.status.busy": "2023-01-31T17:07:49.736033Z",
     "iopub.status.idle": "2023-01-31T17:07:49.749783Z",
     "shell.execute_reply": "2023-01-31T17:07:49.748407Z"
    },
    "papermill": {
     "duration": 0.022152,
     "end_time": "2023-01-31T17:07:49.753594",
     "exception": false,
     "start_time": "2023-01-31T17:07:49.731442",
     "status": "completed"
    },
    "tags": []
   },
   "outputs": [
    {
     "name": "stdout",
     "output_type": "stream",
     "text": [
      "pickup_weekday       0\n",
      "pickup_hour          0\n",
      "pickup_longitude     0\n",
      "pickup_latitude      0\n",
      "dropoff_longitude    0\n",
      "dropoff_latitude     0\n",
      "passenger_count      0\n",
      "trip_distance        0\n",
      "fare_amount          0\n",
      "tip_amount           0\n",
      "tolls_amount         0\n",
      "payment_type         0\n",
      "dtype: int64\n"
     ]
    }
   ],
   "source": [
    "# Any missing values?\n",
    "print(df.isna().sum())"
   ]
  },
  {
   "cell_type": "code",
   "execution_count": null,
   "id": "12050bd6",
   "metadata": {
    "papermill": {
     "duration": 0.003224,
     "end_time": "2023-01-31T17:07:49.761153",
     "exception": false,
     "start_time": "2023-01-31T17:07:49.757929",
     "status": "completed"
    },
    "tags": []
   },
   "outputs": [],
   "source": []
  }
 ],
 "metadata": {
  "kernelspec": {
   "display_name": "Python 3",
   "language": "python",
   "name": "python3"
  },
  "language_info": {
   "codemirror_mode": {
    "name": "ipython",
    "version": 3
   },
   "file_extension": ".py",
   "mimetype": "text/x-python",
   "name": "python",
   "nbconvert_exporter": "python",
   "pygments_lexer": "ipython3",
   "version": "3.7.12"
  },
  "papermill": {
   "default_parameters": {},
   "duration": 10.689077,
   "end_time": "2023-01-31T17:07:50.486868",
   "environment_variables": {},
   "exception": null,
   "input_path": "__notebook__.ipynb",
   "output_path": "__notebook__.ipynb",
   "parameters": {},
   "start_time": "2023-01-31T17:07:39.797791",
   "version": "2.3.4"
  }
 },
 "nbformat": 4,
 "nbformat_minor": 5
}
