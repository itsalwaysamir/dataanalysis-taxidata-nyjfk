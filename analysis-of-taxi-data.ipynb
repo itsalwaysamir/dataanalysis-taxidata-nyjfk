{
 "cells": [
  {
   "cell_type": "code",
   "execution_count": 1,
   "id": "c8cb5410",
   "metadata": {
    "_cell_guid": "b1076dfc-b9ad-4769-8c92-a6c4dae69d19",
    "_uuid": "8f2839f25d086af736a60e9eeb907d3b93b6e0e5",
    "execution": {
     "iopub.execute_input": "2023-02-01T11:37:11.161019Z",
     "iopub.status.busy": "2023-02-01T11:37:11.160334Z",
     "iopub.status.idle": "2023-02-01T11:37:11.188287Z",
     "shell.execute_reply": "2023-02-01T11:37:11.187446Z"
    },
    "papermill": {
     "duration": 0.041908,
     "end_time": "2023-02-01T11:37:11.191965",
     "exception": false,
     "start_time": "2023-02-01T11:37:11.150057",
     "status": "completed"
    },
    "tags": []
   },
   "outputs": [
    {
     "name": "stdout",
     "output_type": "stream",
     "text": [
      "/kaggle/input/ny-taxi-data-2016/NY_Taxi_Data_2016.csv\n"
     ]
    }
   ],
   "source": [
    "# This Python 3 environment comes with many helpful analytics libraries installed\n",
    "# It is defined by the kaggle/python Docker image: https://github.com/kaggle/docker-python\n",
    "# For example, here's several helpful packages to load\n",
    "\n",
    "import numpy as np # linear algebra\n",
    "import pandas as pd # data processing, CSV file I/O (e.g. pd.read_csv)\n",
    "\n",
    "# Input data files are available in the read-only \"../input/\" directory\n",
    "# For example, running this (by clicking run or pressing Shift+Enter) will list all files under the input directory\n",
    "\n",
    "import os\n",
    "for dirname, _, filenames in os.walk('/kaggle/input'):\n",
    "    for filename in filenames:\n",
    "        print(os.path.join(dirname, filename))\n",
    "\n",
    "# You can write up to 20GB to the current directory (/kaggle/working/) that gets preserved as output when you create a version using \"Save & Run All\" \n",
    "# You can also write temporary files to /kaggle/temp/, but they won't be saved outside of the current session"
   ]
  },
  {
   "cell_type": "markdown",
   "id": "90eb5ffb",
   "metadata": {
    "papermill": {
     "duration": 0.006559,
     "end_time": "2023-02-01T11:37:11.206205",
     "exception": false,
     "start_time": "2023-02-01T11:37:11.199646",
     "status": "completed"
    },
    "tags": []
   },
   "source": [
    "#  Scenario\n",
    "A taxi company in New York City (NYC) decided  wants to optimize the number of cabs waiting at JFK International Airport. The airport is well off the main Manhattan business district. As a result, it takes a very long time for taxis waiting there to be available for other areas. On the other hand, guests arriving at the airport usually cover longer and therefore more lucrative routes. So how many cabs should the cab operator provide at JFK?\n",
    "\n",
    "\n",
    "![A service run by Via and Curb will give travelers in Manhattan the option of sharing a yellow cab with someone for a reduced fare.Credit...Joshua Bright for The New York Times](https://static01.nyt.com/images/2017/06/07/nyregion/07TAXI1/07TAXI1-superJumbo.jpg?quality=75&auto=webp)\n",
    "\n",
    "In order to examine this questions, the company provides us with the data he collected from 2016 in the file NY_Taxi_Data_2016.csv\n",
    "\n",
    "\n",
    "The following tasks have to be solved:\n",
    "* What is the overall percentage of taxis booked from the airport (JFK)? This evaluation is therefore represented by the following formula:\n",
    "# $Share_{JFK} = \\frac{Trips_{JFK}}{Trips_{Overall}}$\n",
    "* Where are taxis taken in New York? \n",
    "* What is the percentage of taxis booked from the airport per day of the week? On which day of the week is the highest proportion and when is the lowest?\n",
    "# $Share_{Weekdays,JFK} = \\frac{Trips_{Weekdays,JFK}}{Trips_{Weekdays,Overall}}$\n",
    "* How much a day of the week contributes to the total number of trips? This should be done for the trips from the airport as well as for the entire set in order to be able to identify any differences.\n",
    "# $Share_{Weekdays,Overall} = \\frac{Trips_{Weekdays,Overall}}{Trips_{All Days,Overall}}$\n",
    "# $Share_{Weekdays,JFK} = \\frac{Trips_{Weekdays,JFK}}{Trips_{All Days,JFK}}$\n",
    "* The proportion of a time in the total number of journeys. This should be done for the trips from the airport as well as for the entire set in order to be able to identify any differences\n",
    "# $Share_{Time,Overall} = \\frac{Trips_{Time,Overall}}{Trips_{All Time,Overall}}$\n",
    "# $Share_{Time,JFK} = \\frac{Trips_{Time,JFK}}{Trips_{All Time,JFK}}$\n",
    "\n",
    "\n",
    "The data is structured as follows:\n",
    "\n",
    "| Column Number | Column Name         | Data Type             | Description                                                     |\n",
    "|---------------|---------------------|-----------------------|-----------------------------------------------------------------|\n",
    "| 0             | 'pickup_weekday'    | categorical (ordinal) | Day of the week on which the trip started (0=Monday, 6=Sunday)  |\n",
    "| 1             | 'pickup_hour'       | categorical (ordinal) | Hour in which the pickup started                                |\n",
    "| 2             | 'pickup_longitude'  | numeric (float)       | Longitude at which pickup started                               |\n",
    "| 3             | 'pickup_latitude'   | numeric (float)       | Latitude where the pickup started                               |\n",
    "| 4             | 'dropoff_longitude' | numeric (float)       | Longitude at which trip ended                                   |\n",
    "| 5             | 'dropoff_latitude'  | numeric (float)       | Latitude at which the trip ended                                |\n",
    "| 6             | 'passenger_count'   | categorical (ordinal) | Number of passengers in the car.                                |\n",
    "| 7             | 'trip_distance'     | numeric (float)       | Traveled distance in miles                                      |\n",
    "| 8             | 'fare_amount'       | numeric (float)       | Amount that the taximeter calculates based on time and distance |\n",
    "| 9             | 'tip_amount'        | numeric (float)       | Tip given when paying by card (0.00 when paying in cash)        |\n",
    "| 10            | 'tolls_amount'      | numeric (float)       | Tolls incurred                                                  |\n",
    "| 11            | 'payment_type'      | categorical (nominal) | Type of payment (1=credit card, 2=cash, 3=no fee, 4=dispute)    |\n",
    "\n",
    "\n",
    "In order to determine which trips depart from JFK Airport, you are given the following coordinates:\n",
    "\n",
    "| Variable     | Value    | Description                               |\n",
    "|--------------|----------|-------------------------------------------|\n",
    "| jfk_max_lat  | 40.66018 | Maximum pickup latitude of airport rides  |\n",
    "| jfk_min_lat  | 40.62666 | Minimum pickup latitude of airport rides  |\n",
    "| jfk_max_long | -73.76599| Maximum pickup longitude of airport rides |\n",
    "| jfk_min_long | -73.80822| Minimum pickup longitude of airport rides |\n",
    "\n",
    "By the way, the coordinates of New York City are something like this:\n",
    "\n",
    "| Variable     | Value    | Description                                |\n",
    "|--------------|----------|--------------------------------------------|\n",
    "| nyc_max_lat  | 40.9176  | Maximum pickup latitude of  New York City  |\n",
    "| nyc_min_lat  | 40.5774  | Minimum pickup latitude of  New York City  |\n",
    "| nyc_max_long |-73.7004  | Maximum pickup longitude of  New York City |\n",
    "| nyc_min_long | -74.15   | Minimum pickup longitude of  New York City |"
   ]
  },
  {
   "cell_type": "markdown",
   "id": "5d3a9351",
   "metadata": {
    "papermill": {
     "duration": 0.006486,
     "end_time": "2023-02-01T11:37:11.219385",
     "exception": false,
     "start_time": "2023-02-01T11:37:11.212899",
     "status": "completed"
    },
    "tags": []
   },
   "source": [
    "# **Data Gathering and Cleaning**"
   ]
  },
  {
   "cell_type": "code",
   "execution_count": 2,
   "id": "40024ccd",
   "metadata": {
    "execution": {
     "iopub.execute_input": "2023-02-01T11:37:11.234320Z",
     "iopub.status.busy": "2023-02-01T11:37:11.233927Z",
     "iopub.status.idle": "2023-02-01T11:37:11.879163Z",
     "shell.execute_reply": "2023-02-01T11:37:11.877880Z"
    },
    "papermill": {
     "duration": 0.656578,
     "end_time": "2023-02-01T11:37:11.882608",
     "exception": false,
     "start_time": "2023-02-01T11:37:11.226030",
     "status": "completed"
    },
    "tags": []
   },
   "outputs": [
    {
     "data": {
      "text/html": [
       "<div>\n",
       "<style scoped>\n",
       "    .dataframe tbody tr th:only-of-type {\n",
       "        vertical-align: middle;\n",
       "    }\n",
       "\n",
       "    .dataframe tbody tr th {\n",
       "        vertical-align: top;\n",
       "    }\n",
       "\n",
       "    .dataframe thead th {\n",
       "        text-align: right;\n",
       "    }\n",
       "</style>\n",
       "<table border=\"1\" class=\"dataframe\">\n",
       "  <thead>\n",
       "    <tr style=\"text-align: right;\">\n",
       "      <th></th>\n",
       "      <th>pickup_weekday</th>\n",
       "      <th>pickup_hour</th>\n",
       "      <th>pickup_longitude</th>\n",
       "      <th>pickup_latitude</th>\n",
       "      <th>dropoff_longitude</th>\n",
       "      <th>dropoff_latitude</th>\n",
       "      <th>passenger_count</th>\n",
       "      <th>trip_distance</th>\n",
       "      <th>fare_amount</th>\n",
       "      <th>tip_amount</th>\n",
       "      <th>tolls_amount</th>\n",
       "      <th>payment_type</th>\n",
       "    </tr>\n",
       "  </thead>\n",
       "  <tbody>\n",
       "    <tr>\n",
       "      <th>0</th>\n",
       "      <td>3</td>\n",
       "      <td>19</td>\n",
       "      <td>-73.789970</td>\n",
       "      <td>40.646660</td>\n",
       "      <td>-74.005051</td>\n",
       "      <td>40.748081</td>\n",
       "      <td>1</td>\n",
       "      <td>18.610001</td>\n",
       "      <td>52.0</td>\n",
       "      <td>10.00</td>\n",
       "      <td>5.54</td>\n",
       "      <td>1</td>\n",
       "    </tr>\n",
       "    <tr>\n",
       "      <th>1</th>\n",
       "      <td>5</td>\n",
       "      <td>3</td>\n",
       "      <td>-73.986237</td>\n",
       "      <td>40.746513</td>\n",
       "      <td>-73.996796</td>\n",
       "      <td>40.742504</td>\n",
       "      <td>1</td>\n",
       "      <td>0.990000</td>\n",
       "      <td>5.0</td>\n",
       "      <td>1.00</td>\n",
       "      <td>0.00</td>\n",
       "      <td>1</td>\n",
       "    </tr>\n",
       "    <tr>\n",
       "      <th>2</th>\n",
       "      <td>4</td>\n",
       "      <td>20</td>\n",
       "      <td>-73.874634</td>\n",
       "      <td>40.773960</td>\n",
       "      <td>-73.959923</td>\n",
       "      <td>40.762802</td>\n",
       "      <td>3</td>\n",
       "      <td>9.250000</td>\n",
       "      <td>26.5</td>\n",
       "      <td>8.34</td>\n",
       "      <td>5.54</td>\n",
       "      <td>1</td>\n",
       "    </tr>\n",
       "    <tr>\n",
       "      <th>3</th>\n",
       "      <td>5</td>\n",
       "      <td>2</td>\n",
       "      <td>-73.952477</td>\n",
       "      <td>40.772064</td>\n",
       "      <td>-73.949371</td>\n",
       "      <td>40.675156</td>\n",
       "      <td>1</td>\n",
       "      <td>9.200000</td>\n",
       "      <td>28.0</td>\n",
       "      <td>0.00</td>\n",
       "      <td>0.00</td>\n",
       "      <td>2</td>\n",
       "    </tr>\n",
       "    <tr>\n",
       "      <th>4</th>\n",
       "      <td>4</td>\n",
       "      <td>21</td>\n",
       "      <td>-73.988281</td>\n",
       "      <td>40.764488</td>\n",
       "      <td>-73.996513</td>\n",
       "      <td>40.753239</td>\n",
       "      <td>1</td>\n",
       "      <td>0.900000</td>\n",
       "      <td>5.0</td>\n",
       "      <td>1.26</td>\n",
       "      <td>0.00</td>\n",
       "      <td>1</td>\n",
       "    </tr>\n",
       "  </tbody>\n",
       "</table>\n",
       "</div>"
      ],
      "text/plain": [
       "   pickup_weekday  pickup_hour  pickup_longitude  pickup_latitude  \\\n",
       "0               3           19        -73.789970        40.646660   \n",
       "1               5            3        -73.986237        40.746513   \n",
       "2               4           20        -73.874634        40.773960   \n",
       "3               5            2        -73.952477        40.772064   \n",
       "4               4           21        -73.988281        40.764488   \n",
       "\n",
       "   dropoff_longitude  dropoff_latitude  passenger_count  trip_distance  \\\n",
       "0         -74.005051         40.748081                1      18.610001   \n",
       "1         -73.996796         40.742504                1       0.990000   \n",
       "2         -73.959923         40.762802                3       9.250000   \n",
       "3         -73.949371         40.675156                1       9.200000   \n",
       "4         -73.996513         40.753239                1       0.900000   \n",
       "\n",
       "   fare_amount  tip_amount  tolls_amount  payment_type  \n",
       "0         52.0       10.00          5.54             1  \n",
       "1          5.0        1.00          0.00             1  \n",
       "2         26.5        8.34          5.54             1  \n",
       "3         28.0        0.00          0.00             2  \n",
       "4          5.0        1.26          0.00             1  "
      ]
     },
     "metadata": {},
     "output_type": "display_data"
    },
    {
     "data": {
      "text/plain": [
       "pickup_weekday         int16\n",
       "pickup_hour            int16\n",
       "pickup_longitude     float32\n",
       "pickup_latitude      float32\n",
       "dropoff_longitude    float32\n",
       "dropoff_latitude     float32\n",
       "passenger_count        int16\n",
       "trip_distance        float32\n",
       "fare_amount          float32\n",
       "tip_amount           float32\n",
       "tolls_amount         float32\n",
       "payment_type           int16\n",
       "dtype: object"
      ]
     },
     "metadata": {},
     "output_type": "display_data"
    }
   ],
   "source": [
    "# Import required libraries: pandas and numpy\n",
    "import pandas as pd\n",
    "import numpy as np\n",
    "\n",
    "##### Remarks ####\n",
    "# method pd.read_csv offers dtype parameter by which data taype to each column can be manually assigned.\n",
    "# This is required to significantly reduce the RAM required for storing numbers.or example, by default\n",
    "# whole numbers are read as int64, i.e. each number requires 64 bits in memory. The larger this value,\n",
    "# the larger whole numbers can be stored. For floating point numbers, the precision with which they are stored increases.\n",
    "# However, our data is in an area that does not require such a large memory size. If the numbers are read in as int32,\n",
    "# for example, only half the RAM is required by the DataFrame.With the following dictionary you can read in the data record with little memory:\n",
    "# read and check the data\n",
    "col_dtypes = {'pickup_weekday': 'int16', \n",
    "              'pickup_hour': 'int16', \n",
    "              'pickup_longitude': 'float32', \n",
    "              'pickup_latitude': 'float32', \n",
    "              'dropoff_longitude': 'float32', \n",
    "              'dropoff_latitude': 'float32', \n",
    "              'passenger_count': 'int16', \n",
    "              'trip_distance': 'float32', \n",
    "              'fare_amount': 'float32', \n",
    "              'tip_amount': 'float32', \n",
    "              'tolls_amount': 'float32', \n",
    "              'payment_type': 'int16'}\n",
    "# Read data\n",
    "df = pd.read_csv('/kaggle/input/ny-taxi-data-2016/NY_Taxi_Data_2016.csv', dtype=col_dtypes)\n",
    "display(df.head())\n",
    "\n",
    "# Check the data types\n",
    "display(df.dtypes)"
   ]
  },
  {
   "cell_type": "code",
   "execution_count": 3,
   "id": "80611521",
   "metadata": {
    "execution": {
     "iopub.execute_input": "2023-02-01T11:37:11.898973Z",
     "iopub.status.busy": "2023-02-01T11:37:11.898607Z",
     "iopub.status.idle": "2023-02-01T11:37:11.955879Z",
     "shell.execute_reply": "2023-02-01T11:37:11.954219Z"
    },
    "papermill": {
     "duration": 0.068435,
     "end_time": "2023-02-01T11:37:11.958455",
     "exception": false,
     "start_time": "2023-02-01T11:37:11.890020",
     "status": "completed"
    },
    "tags": []
   },
   "outputs": [
    {
     "name": "stdout",
     "output_type": "stream",
     "text": [
      "<class 'pandas.core.frame.DataFrame'>\n",
      "RangeIndex: 300000 entries, 0 to 299999\n",
      "Data columns (total 12 columns):\n",
      " #   Column             Non-Null Count   Dtype   \n",
      "---  ------             --------------   -----   \n",
      " 0   pickup_weekday     300000 non-null  category\n",
      " 1   pickup_hour        300000 non-null  category\n",
      " 2   pickup_longitude   300000 non-null  float32 \n",
      " 3   pickup_latitude    300000 non-null  float32 \n",
      " 4   dropoff_longitude  300000 non-null  float32 \n",
      " 5   dropoff_latitude   300000 non-null  float32 \n",
      " 6   passenger_count    300000 non-null  category\n",
      " 7   trip_distance      300000 non-null  float32 \n",
      " 8   fare_amount        300000 non-null  float32 \n",
      " 9   tip_amount         300000 non-null  float32 \n",
      " 10  tolls_amount       300000 non-null  float32 \n",
      " 11  payment_type       300000 non-null  category\n",
      "dtypes: category(4), float32(8)\n",
      "memory usage: 10.3 MB\n"
     ]
    }
   ],
   "source": [
    "# Scaling categorial data\n",
    "categorial_col = ['pickup_weekday','pickup_hour','passenger_count','payment_type']\n",
    "df.loc[:,categorial_col] = df.loc[:,categorial_col].astype('category')\n",
    "\n",
    "# Check the data type again   \n",
    "df.info()"
   ]
  },
  {
   "cell_type": "code",
   "execution_count": 4,
   "id": "03123a17",
   "metadata": {
    "execution": {
     "iopub.execute_input": "2023-02-01T11:37:11.975757Z",
     "iopub.status.busy": "2023-02-01T11:37:11.974990Z",
     "iopub.status.idle": "2023-02-01T11:37:11.988509Z",
     "shell.execute_reply": "2023-02-01T11:37:11.987161Z"
    },
    "papermill": {
     "duration": 0.024928,
     "end_time": "2023-02-01T11:37:11.990948",
     "exception": false,
     "start_time": "2023-02-01T11:37:11.966020",
     "status": "completed"
    },
    "tags": []
   },
   "outputs": [
    {
     "name": "stdout",
     "output_type": "stream",
     "text": [
      "pickup_weekday       0\n",
      "pickup_hour          0\n",
      "pickup_longitude     0\n",
      "pickup_latitude      0\n",
      "dropoff_longitude    0\n",
      "dropoff_latitude     0\n",
      "passenger_count      0\n",
      "trip_distance        0\n",
      "fare_amount          0\n",
      "tip_amount           0\n",
      "tolls_amount         0\n",
      "payment_type         0\n",
      "dtype: int64\n"
     ]
    }
   ],
   "source": [
    "# Any missing values?\n",
    "print(df.isna().sum())"
   ]
  },
  {
   "cell_type": "code",
   "execution_count": 5,
   "id": "39cda8b2",
   "metadata": {
    "execution": {
     "iopub.execute_input": "2023-02-01T11:37:12.007440Z",
     "iopub.status.busy": "2023-02-01T11:37:12.007021Z",
     "iopub.status.idle": "2023-02-01T11:37:12.286254Z",
     "shell.execute_reply": "2023-02-01T11:37:12.285206Z"
    },
    "papermill": {
     "duration": 0.290272,
     "end_time": "2023-02-01T11:37:12.288640",
     "exception": false,
     "start_time": "2023-02-01T11:37:11.998368",
     "status": "completed"
    },
    "tags": []
   },
   "outputs": [
    {
     "data": {
      "text/html": [
       "<div>\n",
       "<style scoped>\n",
       "    .dataframe tbody tr th:only-of-type {\n",
       "        vertical-align: middle;\n",
       "    }\n",
       "\n",
       "    .dataframe tbody tr th {\n",
       "        vertical-align: top;\n",
       "    }\n",
       "\n",
       "    .dataframe thead th {\n",
       "        text-align: right;\n",
       "    }\n",
       "</style>\n",
       "<table border=\"1\" class=\"dataframe\">\n",
       "  <thead>\n",
       "    <tr style=\"text-align: right;\">\n",
       "      <th></th>\n",
       "      <th>pickup_longitude</th>\n",
       "      <th>pickup_latitude</th>\n",
       "      <th>dropoff_longitude</th>\n",
       "      <th>dropoff_latitude</th>\n",
       "      <th>trip_distance</th>\n",
       "      <th>fare_amount</th>\n",
       "      <th>tip_amount</th>\n",
       "      <th>tolls_amount</th>\n",
       "    </tr>\n",
       "  </thead>\n",
       "  <tbody>\n",
       "    <tr>\n",
       "      <th>count</th>\n",
       "      <td>300000.000000</td>\n",
       "      <td>300000.000000</td>\n",
       "      <td>300000.000000</td>\n",
       "      <td>300000.000000</td>\n",
       "      <td>300000.000000</td>\n",
       "      <td>300000.000000</td>\n",
       "      <td>300000.000000</td>\n",
       "      <td>300000.000000</td>\n",
       "    </tr>\n",
       "    <tr>\n",
       "      <th>mean</th>\n",
       "      <td>-72.790047</td>\n",
       "      <td>40.098637</td>\n",
       "      <td>-72.857468</td>\n",
       "      <td>40.136742</td>\n",
       "      <td>2.847915</td>\n",
       "      <td>12.382164</td>\n",
       "      <td>1.770859</td>\n",
       "      <td>0.283985</td>\n",
       "    </tr>\n",
       "    <tr>\n",
       "      <th>std</th>\n",
       "      <td>9.285509</td>\n",
       "      <td>5.115375</td>\n",
       "      <td>9.019335</td>\n",
       "      <td>4.968787</td>\n",
       "      <td>3.532295</td>\n",
       "      <td>11.528932</td>\n",
       "      <td>2.514726</td>\n",
       "      <td>1.369848</td>\n",
       "    </tr>\n",
       "    <tr>\n",
       "      <th>min</th>\n",
       "      <td>-130.829086</td>\n",
       "      <td>0.000000</td>\n",
       "      <td>-83.158806</td>\n",
       "      <td>0.000000</td>\n",
       "      <td>0.000000</td>\n",
       "      <td>-75.000000</td>\n",
       "      <td>-0.990000</td>\n",
       "      <td>0.000000</td>\n",
       "    </tr>\n",
       "    <tr>\n",
       "      <th>25%</th>\n",
       "      <td>-73.991676</td>\n",
       "      <td>40.736401</td>\n",
       "      <td>-73.991287</td>\n",
       "      <td>40.734573</td>\n",
       "      <td>1.000000</td>\n",
       "      <td>6.500000</td>\n",
       "      <td>0.000000</td>\n",
       "      <td>0.000000</td>\n",
       "    </tr>\n",
       "    <tr>\n",
       "      <th>50%</th>\n",
       "      <td>-73.981552</td>\n",
       "      <td>40.753294</td>\n",
       "      <td>-73.979713</td>\n",
       "      <td>40.753658</td>\n",
       "      <td>1.660000</td>\n",
       "      <td>9.000000</td>\n",
       "      <td>1.350000</td>\n",
       "      <td>0.000000</td>\n",
       "    </tr>\n",
       "    <tr>\n",
       "      <th>75%</th>\n",
       "      <td>-73.966751</td>\n",
       "      <td>40.767811</td>\n",
       "      <td>-73.962318</td>\n",
       "      <td>40.769326</td>\n",
       "      <td>3.040000</td>\n",
       "      <td>14.000000</td>\n",
       "      <td>2.350000</td>\n",
       "      <td>0.000000</td>\n",
       "    </tr>\n",
       "    <tr>\n",
       "      <th>max</th>\n",
       "      <td>0.000000</td>\n",
       "      <td>48.857597</td>\n",
       "      <td>0.000000</td>\n",
       "      <td>42.186756</td>\n",
       "      <td>179.300003</td>\n",
       "      <td>2020.000000</td>\n",
       "      <td>299.799988</td>\n",
       "      <td>101.059998</td>\n",
       "    </tr>\n",
       "  </tbody>\n",
       "</table>\n",
       "</div>"
      ],
      "text/plain": [
       "       pickup_longitude  pickup_latitude  dropoff_longitude  dropoff_latitude  \\\n",
       "count     300000.000000    300000.000000      300000.000000     300000.000000   \n",
       "mean         -72.790047        40.098637         -72.857468         40.136742   \n",
       "std            9.285509         5.115375           9.019335          4.968787   \n",
       "min         -130.829086         0.000000         -83.158806          0.000000   \n",
       "25%          -73.991676        40.736401         -73.991287         40.734573   \n",
       "50%          -73.981552        40.753294         -73.979713         40.753658   \n",
       "75%          -73.966751        40.767811         -73.962318         40.769326   \n",
       "max            0.000000        48.857597           0.000000         42.186756   \n",
       "\n",
       "       trip_distance    fare_amount     tip_amount   tolls_amount  \n",
       "count  300000.000000  300000.000000  300000.000000  300000.000000  \n",
       "mean        2.847915      12.382164       1.770859       0.283985  \n",
       "std         3.532295      11.528932       2.514726       1.369848  \n",
       "min         0.000000     -75.000000      -0.990000       0.000000  \n",
       "25%         1.000000       6.500000       0.000000       0.000000  \n",
       "50%         1.660000       9.000000       1.350000       0.000000  \n",
       "75%         3.040000      14.000000       2.350000       0.000000  \n",
       "max       179.300003    2020.000000     299.799988     101.059998  "
      ]
     },
     "metadata": {},
     "output_type": "display_data"
    },
    {
     "name": "stdout",
     "output_type": "stream",
     "text": [
      "Number of exterem values for pickup_longitude is: 4804\n",
      "Number of exterem values for pickup_latitude is: 0\n",
      "Number of exterem values for dropoff_longitude is: 420\n",
      "Number of exterem values for dropoff_latitude is: 0\n",
      "Number of exterem vlaues for trip distance is 1169\n",
      "\n",
      "\n"
     ]
    },
    {
     "data": {
      "text/plain": [
       "'Size of initial data frame:'"
      ]
     },
     "metadata": {},
     "output_type": "display_data"
    },
    {
     "data": {
      "text/plain": [
       "(300000, 12)"
      ]
     },
     "metadata": {},
     "output_type": "display_data"
    },
    {
     "name": "stdout",
     "output_type": "stream",
     "text": [
      "--------------------------------------------\n"
     ]
    },
    {
     "data": {
      "text/plain": [
       "'Size of cleaned data frame:'"
      ]
     },
     "metadata": {},
     "output_type": "display_data"
    },
    {
     "data": {
      "text/plain": [
       "(293607, 12)"
      ]
     },
     "metadata": {},
     "output_type": "display_data"
    }
   ],
   "source": [
    "# check for obviously wrong and extreme values of GPS data\n",
    "display(df.describe())\n",
    "\n",
    "# GPS column name\n",
    "GPS_data = ['pickup_longitude','pickup_latitude','dropoff_longitude','dropoff_latitude']\n",
    "\n",
    "\n",
    "# Define new DataFrame for comparing the results\n",
    "df_cleaned = df\n",
    "\n",
    "# Delete extreme values of GPS data for any values equal to zero and less than -100,\n",
    "# regrading to table of descreptive statistics \n",
    "for col in GPS_data:    \n",
    "    mask_gps = (df_cleaned.loc[:,col] == 0) | (df_cleaned.loc[:,col] < -100)\n",
    "    print(f'Number of exterem values for {col} is:', mask_gps.sum())    \n",
    "    df_cleaned = df_cleaned.drop(df_cleaned.index[mask_gps])\n",
    "\n",
    "# Delete trips with zero distance\n",
    "mask_dist = df_cleaned.loc[:,'trip_distance'] == 0\n",
    "print(f'Number of exterem vlaues for trip distance is', mask_dist.sum())\n",
    "df_cleaned = df_cleaned.drop(df_cleaned.index[mask_dist])\n",
    "\n",
    "print('\\n')\n",
    "display(f'Size of initial data frame:', df.shape)\n",
    "print('--------------------------------------------')\n",
    "display(f'Size of cleaned data frame:', df_cleaned.shape)"
   ]
  },
  {
   "cell_type": "markdown",
   "id": "fcd7bbff",
   "metadata": {
    "papermill": {
     "duration": 0.007798,
     "end_time": "2023-02-01T11:37:12.304611",
     "exception": false,
     "start_time": "2023-02-01T11:37:12.296813",
     "status": "completed"
    },
    "tags": []
   },
   "source": [
    "# **2) Data Selection**"
   ]
  },
  {
   "cell_type": "code",
   "execution_count": 6,
   "id": "42f8d3f8",
   "metadata": {
    "execution": {
     "iopub.execute_input": "2023-02-01T11:37:12.323824Z",
     "iopub.status.busy": "2023-02-01T11:37:12.323268Z",
     "iopub.status.idle": "2023-02-01T11:37:12.378896Z",
     "shell.execute_reply": "2023-02-01T11:37:12.377730Z"
    },
    "papermill": {
     "duration": 0.067658,
     "end_time": "2023-02-01T11:37:12.381553",
     "exception": false,
     "start_time": "2023-02-01T11:37:12.313895",
     "status": "completed"
    },
    "tags": []
   },
   "outputs": [
    {
     "name": "stdout",
     "output_type": "stream",
     "text": [
      "\n",
      "\n",
      "Number of datapoints in airport area (plausible datapoint range: 5790\n",
      "\n",
      "\n"
     ]
    },
    {
     "data": {
      "text/html": [
       "<div>\n",
       "<style scoped>\n",
       "    .dataframe tbody tr th:only-of-type {\n",
       "        vertical-align: middle;\n",
       "    }\n",
       "\n",
       "    .dataframe tbody tr th {\n",
       "        vertical-align: top;\n",
       "    }\n",
       "\n",
       "    .dataframe thead th {\n",
       "        text-align: right;\n",
       "    }\n",
       "</style>\n",
       "<table border=\"1\" class=\"dataframe\">\n",
       "  <thead>\n",
       "    <tr style=\"text-align: right;\">\n",
       "      <th></th>\n",
       "      <th>pickup_longitude</th>\n",
       "      <th>pickup_latitude</th>\n",
       "      <th>dropoff_longitude</th>\n",
       "      <th>dropoff_latitude</th>\n",
       "      <th>trip_distance</th>\n",
       "      <th>fare_amount</th>\n",
       "      <th>tip_amount</th>\n",
       "      <th>tolls_amount</th>\n",
       "    </tr>\n",
       "  </thead>\n",
       "  <tbody>\n",
       "    <tr>\n",
       "      <th>count</th>\n",
       "      <td>5674.000000</td>\n",
       "      <td>5674.000000</td>\n",
       "      <td>5674.000000</td>\n",
       "      <td>5674.000000</td>\n",
       "      <td>5674.000000</td>\n",
       "      <td>5674.000000</td>\n",
       "      <td>5674.000000</td>\n",
       "      <td>5674.000000</td>\n",
       "    </tr>\n",
       "    <tr>\n",
       "      <th>mean</th>\n",
       "      <td>-73.784187</td>\n",
       "      <td>40.645405</td>\n",
       "      <td>-73.941925</td>\n",
       "      <td>40.732212</td>\n",
       "      <td>16.138691</td>\n",
       "      <td>46.140038</td>\n",
       "      <td>5.881472</td>\n",
       "      <td>2.756036</td>\n",
       "    </tr>\n",
       "    <tr>\n",
       "      <th>std</th>\n",
       "      <td>0.005531</td>\n",
       "      <td>0.002085</td>\n",
       "      <td>0.076208</td>\n",
       "      <td>0.051286</td>\n",
       "      <td>5.290612</td>\n",
       "      <td>14.480885</td>\n",
       "      <td>5.762765</td>\n",
       "      <td>2.972831</td>\n",
       "    </tr>\n",
       "    <tr>\n",
       "      <th>min</th>\n",
       "      <td>-73.807480</td>\n",
       "      <td>40.639713</td>\n",
       "      <td>-74.730721</td>\n",
       "      <td>40.560028</td>\n",
       "      <td>0.010000</td>\n",
       "      <td>-52.000000</td>\n",
       "      <td>0.000000</td>\n",
       "      <td>0.000000</td>\n",
       "    </tr>\n",
       "    <tr>\n",
       "      <th>25%</th>\n",
       "      <td>-73.789536</td>\n",
       "      <td>40.644604</td>\n",
       "      <td>-73.986464</td>\n",
       "      <td>40.702512</td>\n",
       "      <td>13.802500</td>\n",
       "      <td>41.500000</td>\n",
       "      <td>0.000000</td>\n",
       "      <td>0.000000</td>\n",
       "    </tr>\n",
       "    <tr>\n",
       "      <th>50%</th>\n",
       "      <td>-73.782475</td>\n",
       "      <td>40.645111</td>\n",
       "      <td>-73.973145</td>\n",
       "      <td>40.744158</td>\n",
       "      <td>17.600000</td>\n",
       "      <td>52.000000</td>\n",
       "      <td>5.450000</td>\n",
       "      <td>0.000000</td>\n",
       "    </tr>\n",
       "    <tr>\n",
       "      <th>75%</th>\n",
       "      <td>-73.781303</td>\n",
       "      <td>40.646609</td>\n",
       "      <td>-73.927147</td>\n",
       "      <td>40.761844</td>\n",
       "      <td>19.000000</td>\n",
       "      <td>52.000000</td>\n",
       "      <td>11.650000</td>\n",
       "      <td>5.540000</td>\n",
       "    </tr>\n",
       "    <tr>\n",
       "      <th>max</th>\n",
       "      <td>-73.774986</td>\n",
       "      <td>40.659447</td>\n",
       "      <td>-73.124123</td>\n",
       "      <td>41.094330</td>\n",
       "      <td>70.290001</td>\n",
       "      <td>264.500000</td>\n",
       "      <td>50.000000</td>\n",
       "      <td>32.799999</td>\n",
       "    </tr>\n",
       "  </tbody>\n",
       "</table>\n",
       "</div>"
      ],
      "text/plain": [
       "       pickup_longitude  pickup_latitude  dropoff_longitude  dropoff_latitude  \\\n",
       "count       5674.000000      5674.000000        5674.000000       5674.000000   \n",
       "mean         -73.784187        40.645405         -73.941925         40.732212   \n",
       "std            0.005531         0.002085           0.076208          0.051286   \n",
       "min          -73.807480        40.639713         -74.730721         40.560028   \n",
       "25%          -73.789536        40.644604         -73.986464         40.702512   \n",
       "50%          -73.782475        40.645111         -73.973145         40.744158   \n",
       "75%          -73.781303        40.646609         -73.927147         40.761844   \n",
       "max          -73.774986        40.659447         -73.124123         41.094330   \n",
       "\n",
       "       trip_distance  fare_amount   tip_amount  tolls_amount  \n",
       "count    5674.000000  5674.000000  5674.000000   5674.000000  \n",
       "mean       16.138691    46.140038     5.881472      2.756036  \n",
       "std         5.290612    14.480885     5.762765      2.972831  \n",
       "min         0.010000   -52.000000     0.000000      0.000000  \n",
       "25%        13.802500    41.500000     0.000000      0.000000  \n",
       "50%        17.600000    52.000000     5.450000      0.000000  \n",
       "75%        19.000000    52.000000    11.650000      5.540000  \n",
       "max        70.290001   264.500000    50.000000     32.799999  "
      ]
     },
     "execution_count": 6,
     "metadata": {},
     "output_type": "execute_result"
    }
   ],
   "source": [
    "# Now we would select the data related to the pickup coordinates of the airport\n",
    "# and store them in a new DataFrame\n",
    "jfk_max_lat = 40.66018 # define maximal latitude\n",
    "jfk_min_lat = 40.62666 # define minimal latitude\n",
    "jfk_max_long = -73.76599 # define maximal longitude\n",
    "jfk_min_long = -73.80822 # define minimal longitude\n",
    "\n",
    "# Create masks and select the data\n",
    "# Mask for values with the correct latitude\n",
    "mask_lat_jfk = (df.loc[:, 'pickup_latitude'] >= jfk_min_lat) & \\\n",
    "                (df.loc[:, 'pickup_latitude'] <= jfk_max_lat) \n",
    "# Mask for values with the correct longitude\n",
    "mask_long_jfk = (df.loc[:, 'pickup_longitude'] >= jfk_min_long) & \\\n",
    "                (df.loc[:, 'pickup_longitude'] <= jfk_max_long) \n",
    "\n",
    "# Combine both masks\n",
    "mask_jfk_pickup = (mask_lat_jfk & mask_long_jfk) \n",
    "\n",
    "# Print the number of plausible gps dataponts are in the airport area \n",
    "print('\\n')\n",
    "print(f'Number of datapoints in airport area (plausible datapoint range:', mask_jfk_pickup.sum()) \n",
    "print('\\n')\n",
    "\n",
    "# Define new DataFrame for airport data\n",
    "df_jfk = df_cleaned.loc[mask_jfk_pickup, :] \n",
    "df_jfk.describe()"
   ]
  },
  {
   "cell_type": "markdown",
   "id": "2b5aea6f",
   "metadata": {
    "papermill": {
     "duration": 0.008351,
     "end_time": "2023-02-01T11:37:12.398845",
     "exception": false,
     "start_time": "2023-02-01T11:37:12.390494",
     "status": "completed"
    },
    "tags": []
   },
   "source": [
    "# **3) The Share of Airport Taxis**"
   ]
  },
  {
   "cell_type": "markdown",
   "id": "56df1449",
   "metadata": {
    "papermill": {
     "duration": 0.00816,
     "end_time": "2023-02-01T11:37:12.415646",
     "exception": false,
     "start_time": "2023-02-01T11:37:12.407486",
     "status": "completed"
    },
    "tags": []
   },
   "source": [
    "The question here is: What is the overall percentage of taxis booked from the airport?- as described above"
   ]
  },
  {
   "cell_type": "code",
   "execution_count": 7,
   "id": "9b7cdeac",
   "metadata": {
    "execution": {
     "iopub.execute_input": "2023-02-01T11:37:12.433686Z",
     "iopub.status.busy": "2023-02-01T11:37:12.433306Z",
     "iopub.status.idle": "2023-02-01T11:37:12.439446Z",
     "shell.execute_reply": "2023-02-01T11:37:12.438144Z"
    },
    "papermill": {
     "duration": 0.01779,
     "end_time": "2023-02-01T11:37:12.441882",
     "exception": false,
     "start_time": "2023-02-01T11:37:12.424092",
     "status": "completed"
    },
    "tags": []
   },
   "outputs": [
    {
     "name": "stdout",
     "output_type": "stream",
     "text": [
      "Ratio of trips starting from JFK is:  0.018913333333333334\n"
     ]
    }
   ],
   "source": [
    "# What is the ratio of trips starting from JFK?\n",
    "print(f'Ratio of trips starting from JFK is: ', df_jfk.shape[0] / df.shape[0])"
   ]
  },
  {
   "cell_type": "markdown",
   "id": "63e42274",
   "metadata": {
    "papermill": {
     "duration": 0.008352,
     "end_time": "2023-02-01T11:37:12.459416",
     "exception": false,
     "start_time": "2023-02-01T11:37:12.451064",
     "status": "completed"
    },
    "tags": []
   },
   "source": [
    "The taxi company now knows how large the proportion of its fleet is that is tied to the airport business."
   ]
  },
  {
   "cell_type": "markdown",
   "id": "4352727e",
   "metadata": {
    "papermill": {
     "duration": 0.008236,
     "end_time": "2023-02-01T11:37:12.475990",
     "exception": false,
     "start_time": "2023-02-01T11:37:12.467754",
     "status": "completed"
    },
    "tags": []
   },
   "source": [
    "# **4) Visualize starting points**"
   ]
  },
  {
   "cell_type": "code",
   "execution_count": 8,
   "id": "a92ed326",
   "metadata": {
    "execution": {
     "iopub.execute_input": "2023-02-01T11:37:12.494694Z",
     "iopub.status.busy": "2023-02-01T11:37:12.494259Z",
     "iopub.status.idle": "2023-02-01T11:37:13.919399Z",
     "shell.execute_reply": "2023-02-01T11:37:13.918432Z"
    },
    "papermill": {
     "duration": 1.437248,
     "end_time": "2023-02-01T11:37:13.921910",
     "exception": false,
     "start_time": "2023-02-01T11:37:12.484662",
     "status": "completed"
    },
    "tags": []
   },
   "outputs": [
    {
     "data": {
      "image/png": "[encoded data removed]",
      "text/plain": [
       "<Figure size 720x432 with 1 Axes>"
      ]
     },
     "metadata": {
      "needs_background": "light"
     },
     "output_type": "display_data"
    }
   ],
   "source": [
    "# Import matplotlib and magic command\n",
    "import matplotlib.pyplot as plt\n",
    "import seaborn as sns\n",
    "%matplotlib inline\n",
    "\n",
    "\n",
    "fig, ax = plt.subplots(figsize=(10,6))\n",
    "ax = sns.regplot(x=\"pickup_longitude\", y=\"pickup_latitude\", data=df,\n",
    "                 scatter=True, fit_reg=False, scatter_kws={\"s\": 0.1})\n",
    "sns.set_style(\"darkgrid\")\n",
    "\n",
    "# Add annotation\n",
    "ax.annotate(text='JFK Airport',\n",
    "            xy=[-73.79,40.65],\n",
    "            xytext=[-73.85,40.7],\n",
    "            arrowprops=dict(facecolor='black'),fontsize=20);\n",
    "\n",
    "ax.set_title('Start pont of taxi drivers in NY',fontsize=20);\n",
    "ax.set_xlabel('longitude',fontsize=15)\n",
    "ax.set_ylabel('latitude', fontsize=15)\n",
    "ax.set(xlim=[-74.05, -73.75],\n",
    "       ylim=[40.60, 40.90]);  # adjust axis limits\n",
    "#set tick labels font size for both axes\n",
    "plt.tick_params(axis='both', which='major', labelsize=12)\n",
    "\n"
   ]
  },
  {
   "cell_type": "markdown",
   "id": "90b6d2fb",
   "metadata": {
    "papermill": {
     "duration": 0.009662,
     "end_time": "2023-02-01T11:37:13.941722",
     "exception": false,
     "start_time": "2023-02-01T11:37:13.932060",
     "status": "completed"
    },
    "tags": []
   },
   "source": [
    "The taxi operator now knows where his taxis start their journeys."
   ]
  },
  {
   "cell_type": "markdown",
   "id": "2ae360fd",
   "metadata": {
    "papermill": {
     "duration": 0.009237,
     "end_time": "2023-02-01T11:37:13.960847",
     "exception": false,
     "start_time": "2023-02-01T11:37:13.951610",
     "status": "completed"
    },
    "tags": []
   },
   "source": [
    "# **5) Percentage of airport taxis per day**"
   ]
  },
  {
   "cell_type": "markdown",
   "id": "432e05db",
   "metadata": {
    "papermill": {
     "duration": 0.009196,
     "end_time": "2023-02-01T11:37:13.979500",
     "exception": false,
     "start_time": "2023-02-01T11:37:13.970304",
     "status": "completed"
    },
    "tags": []
   },
   "source": [
    "The question here is: What is the percentage of taxis booked from the airport per day of the week?- as described above"
   ]
  },
  {
   "cell_type": "code",
   "execution_count": 9,
   "id": "f2a2774e",
   "metadata": {
    "execution": {
     "iopub.execute_input": "2023-02-01T11:37:14.001113Z",
     "iopub.status.busy": "2023-02-01T11:37:14.000422Z",
     "iopub.status.idle": "2023-02-01T11:37:14.102840Z",
     "shell.execute_reply": "2023-02-01T11:37:14.101722Z"
    },
    "papermill": {
     "duration": 0.117217,
     "end_time": "2023-02-01T11:37:14.106217",
     "exception": false,
     "start_time": "2023-02-01T11:37:13.989000",
     "status": "completed"
    },
    "tags": []
   },
   "outputs": [
    {
     "data": {
      "text/html": [
       "<div>\n",
       "<style scoped>\n",
       "    .dataframe tbody tr th:only-of-type {\n",
       "        vertical-align: middle;\n",
       "    }\n",
       "\n",
       "    .dataframe tbody tr th {\n",
       "        vertical-align: top;\n",
       "    }\n",
       "\n",
       "    .dataframe thead th {\n",
       "        text-align: right;\n",
       "    }\n",
       "</style>\n",
       "<table border=\"1\" class=\"dataframe\">\n",
       "  <thead>\n",
       "    <tr style=\"text-align: right;\">\n",
       "      <th></th>\n",
       "      <th>weekdays</th>\n",
       "      <th>Trips Ratio</th>\n",
       "    </tr>\n",
       "  </thead>\n",
       "  <tbody>\n",
       "    <tr>\n",
       "      <th>0</th>\n",
       "      <td>Mo</td>\n",
       "      <td>0.025595</td>\n",
       "    </tr>\n",
       "    <tr>\n",
       "      <th>1</th>\n",
       "      <td>Tu</td>\n",
       "      <td>0.019692</td>\n",
       "    </tr>\n",
       "    <tr>\n",
       "      <th>2</th>\n",
       "      <td>Wed</td>\n",
       "      <td>0.016805</td>\n",
       "    </tr>\n",
       "    <tr>\n",
       "      <th>3</th>\n",
       "      <td>Thu</td>\n",
       "      <td>0.017770</td>\n",
       "    </tr>\n",
       "    <tr>\n",
       "      <th>4</th>\n",
       "      <td>Fri</td>\n",
       "      <td>0.018368</td>\n",
       "    </tr>\n",
       "    <tr>\n",
       "      <th>5</th>\n",
       "      <td>Sat</td>\n",
       "      <td>0.014090</td>\n",
       "    </tr>\n",
       "    <tr>\n",
       "      <th>6</th>\n",
       "      <td>Sun</td>\n",
       "      <td>0.020034</td>\n",
       "    </tr>\n",
       "  </tbody>\n",
       "</table>\n",
       "</div>"
      ],
      "text/plain": [
       "  weekdays  Trips Ratio\n",
       "0       Mo     0.025595\n",
       "1       Tu     0.019692\n",
       "2      Wed     0.016805\n",
       "3      Thu     0.017770\n",
       "4      Fri     0.018368\n",
       "5      Sat     0.014090\n",
       "6      Sun     0.020034"
      ]
     },
     "metadata": {},
     "output_type": "display_data"
    },
    {
     "name": "stdout",
     "output_type": "stream",
     "text": [
      "col_0\n",
      "count    0.018908\n",
      "dtype: float64\n"
     ]
    }
   ],
   "source": [
    "# What is the ratio of trips starting from JFK on each weekday?\n",
    "\n",
    "#  Define weekdays \n",
    "days = {0:'Mo', 1:'Tu', 2:'Wed', 3:'Thu', 4:'Fri', 5:'Sat', 6:'Sun'}\n",
    "\n",
    "# Count trips starting from JFK\n",
    "counts_days_jfk = pd.crosstab(index=df_jfk['pickup_weekday'],\n",
    "                          columns='count')\n",
    "\n",
    "# Count trips starting from JFK\n",
    "counts_days_all = pd.crosstab(index=df['pickup_weekday'],\n",
    "                          columns='count')\n",
    "\n",
    "\n",
    "\n",
    "df_rt_jfk = pd.DataFrame()\n",
    "df_rt_jfk_all = pd.DataFrame()\n",
    "\n",
    "df_rt_jfk['weekdays'] = list(days.values())\n",
    "df_rt_jfk['Trips Ratio'] = counts_days_jfk / counts_days_all\n",
    "display(df_rt_jfk)\n",
    "\n",
    "# Check whether the mean proportion of jfk-journeys per day is the same as the average proportion of jfk-journeys\n",
    "print((counts_days_jfk / counts_days_all).mean()) "
   ]
  },
  {
   "cell_type": "markdown",
   "id": "432e7437",
   "metadata": {
    "papermill": {
     "duration": 0.00982,
     "end_time": "2023-02-01T11:37:14.127242",
     "exception": false,
     "start_time": "2023-02-01T11:37:14.117422",
     "status": "completed"
    },
    "tags": []
   },
   "source": [
    "The taxi operator now knows how much of his fleet is tied up with airport business every day."
   ]
  },
  {
   "cell_type": "markdown",
   "id": "73cded85",
   "metadata": {
    "papermill": {
     "duration": 0.009604,
     "end_time": "2023-02-01T11:37:14.146754",
     "exception": false,
     "start_time": "2023-02-01T11:37:14.137150",
     "status": "completed"
    },
    "tags": []
   },
   "source": [
    "# **6) Proportion of days of the week in total and from the airport**"
   ]
  },
  {
   "cell_type": "markdown",
   "id": "2bd6a0ae",
   "metadata": {
    "papermill": {
     "duration": 0.009594,
     "end_time": "2023-02-01T11:37:14.166176",
     "exception": false,
     "start_time": "2023-02-01T11:37:14.156582",
     "status": "completed"
    },
    "tags": []
   },
   "source": [
    "The question here is: How much a day of the week contributes to the number of trips. This should be done for the trips from the airport as well as for the entire set in order to be able to identify any differences."
   ]
  },
  {
   "cell_type": "code",
   "execution_count": 10,
   "id": "5f1121d0",
   "metadata": {
    "execution": {
     "iopub.execute_input": "2023-02-01T11:37:14.187528Z",
     "iopub.status.busy": "2023-02-01T11:37:14.187080Z",
     "iopub.status.idle": "2023-02-01T11:37:14.197108Z",
     "shell.execute_reply": "2023-02-01T11:37:14.196046Z"
    },
    "papermill": {
     "duration": 0.023286,
     "end_time": "2023-02-01T11:37:14.199255",
     "exception": false,
     "start_time": "2023-02-01T11:37:14.175969",
     "status": "completed"
    },
    "tags": []
   },
   "outputs": [
    {
     "data": {
      "text/html": [
       "<div>\n",
       "<style scoped>\n",
       "    .dataframe tbody tr th:only-of-type {\n",
       "        vertical-align: middle;\n",
       "    }\n",
       "\n",
       "    .dataframe tbody tr th {\n",
       "        vertical-align: top;\n",
       "    }\n",
       "\n",
       "    .dataframe thead th {\n",
       "        text-align: right;\n",
       "    }\n",
       "</style>\n",
       "<table border=\"1\" class=\"dataframe\">\n",
       "  <thead>\n",
       "    <tr style=\"text-align: right;\">\n",
       "      <th>col_0</th>\n",
       "      <th>count</th>\n",
       "    </tr>\n",
       "    <tr>\n",
       "      <th>pickup_weekday</th>\n",
       "      <th></th>\n",
       "    </tr>\n",
       "  </thead>\n",
       "  <tbody>\n",
       "    <tr>\n",
       "      <th>0</th>\n",
       "      <td>45712</td>\n",
       "    </tr>\n",
       "    <tr>\n",
       "      <th>1</th>\n",
       "      <td>39457</td>\n",
       "    </tr>\n",
       "    <tr>\n",
       "      <th>2</th>\n",
       "      <td>40761</td>\n",
       "    </tr>\n",
       "    <tr>\n",
       "      <th>3</th>\n",
       "      <td>43332</td>\n",
       "    </tr>\n",
       "    <tr>\n",
       "      <th>4</th>\n",
       "      <td>45079</td>\n",
       "    </tr>\n",
       "    <tr>\n",
       "      <th>5</th>\n",
       "      <td>45776</td>\n",
       "    </tr>\n",
       "    <tr>\n",
       "      <th>6</th>\n",
       "      <td>39883</td>\n",
       "    </tr>\n",
       "  </tbody>\n",
       "</table>\n",
       "</div>"
      ],
      "text/plain": [
       "col_0           count\n",
       "pickup_weekday       \n",
       "0               45712\n",
       "1               39457\n",
       "2               40761\n",
       "3               43332\n",
       "4               45079\n",
       "5               45776\n",
       "6               39883"
      ]
     },
     "execution_count": 10,
     "metadata": {},
     "output_type": "execute_result"
    }
   ],
   "source": [
    "counts_days_all"
   ]
  },
  {
   "cell_type": "code",
   "execution_count": 11,
   "id": "ba443c3d",
   "metadata": {
    "execution": {
     "iopub.execute_input": "2023-02-01T11:37:14.222448Z",
     "iopub.status.busy": "2023-02-01T11:37:14.221064Z",
     "iopub.status.idle": "2023-02-01T11:37:14.702559Z",
     "shell.execute_reply": "2023-02-01T11:37:14.701279Z"
    },
    "papermill": {
     "duration": 0.495509,
     "end_time": "2023-02-01T11:37:14.705162",
     "exception": false,
     "start_time": "2023-02-01T11:37:14.209653",
     "status": "completed"
    },
    "tags": []
   },
   "outputs": [
    {
     "data": {
      "image/png": "[encoded data removed]",
      "text/plain": [
       "<Figure size 1440x432 with 2 Axes>"
      ]
     },
     "metadata": {},
     "output_type": "display_data"
    }
   ],
   "source": [
    "# Which weekdays have the most trips?\n",
    "\n",
    "# Calculate the ratio to all airport trips\n",
    "counts_days_ratio_jfk = pd.crosstab(index=df_jfk['pickup_weekday'],\n",
    "                          columns='count',normalize='columns')\n",
    "\n",
    "# Calculate the ratio to all trips.\n",
    "counts_days_ratio_all = pd.crosstab(index=df['pickup_weekday'],\n",
    "                          columns='count',normalize='columns')\n",
    "\n",
    "# Define a data frame for better visialisation reults\n",
    "df_rt_jfk['Weekdays'] = list(days.values())\n",
    "df_rt_jfk['Trips Ratio'] = counts_days_ratio_jfk\n",
    "df_rt_jfk_all['weekdays'] = list(days.values())\n",
    "df_rt_jfk_all['Trips Ratio'] = counts_days_ratio_all\n",
    "\n",
    "# Visualisations\n",
    "fig, axes = plt.subplots(1,2, sharey=True, figsize=(20,6))\n",
    "axes[0].set_title('Percentage of weekdays in airport trips')\n",
    "axes[1].set_title('Percentage of weekdays in total trips')\n",
    "\n",
    "sns.barplot(data=df_rt_jfk, x='weekdays', y= 'Trips Ratio', ax =axes[0]);\n",
    "sns.barplot(data=df_rt_jfk_all, x='weekdays', y= 'Trips Ratio', ax =axes[1]);\n",
    "\n",
    "axes[0].set_ylabel('Proportion of Trips')\n",
    "axes[1].set_ylabel('')\n",
    "plt.subplots_adjust(wspace=0.01)"
   ]
  },
  {
   "cell_type": "markdown",
   "id": "fea77963",
   "metadata": {
    "papermill": {
     "duration": 0.010426,
     "end_time": "2023-02-01T11:37:14.726476",
     "exception": false,
     "start_time": "2023-02-01T11:37:14.716050",
     "status": "completed"
    },
    "tags": []
   },
   "source": [
    "Now you have a good overview of which days the taxi traffic from the airport differs compared to all trips."
   ]
  },
  {
   "cell_type": "markdown",
   "id": "ac9afe21",
   "metadata": {
    "papermill": {
     "duration": 0.009849,
     "end_time": "2023-02-01T11:37:14.746425",
     "exception": false,
     "start_time": "2023-02-01T11:37:14.736576",
     "status": "completed"
    },
    "tags": []
   },
   "source": [
    "# **7) Percentage of times in total and from the airport**"
   ]
  },
  {
   "cell_type": "markdown",
   "id": "a6b028b1",
   "metadata": {
    "papermill": {
     "duration": 0.010264,
     "end_time": "2023-02-01T11:37:14.767031",
     "exception": false,
     "start_time": "2023-02-01T11:37:14.756767",
     "status": "completed"
    },
    "tags": []
   },
   "source": [
    "The question here is: what proportion a time has in the number of trips. This should be done for the trips from the airport as well as for the entire set in order to be able to identify any differences."
   ]
  },
  {
   "cell_type": "code",
   "execution_count": 12,
   "id": "ed9dd8b5",
   "metadata": {
    "execution": {
     "iopub.execute_input": "2023-02-01T11:37:14.790162Z",
     "iopub.status.busy": "2023-02-01T11:37:14.789777Z",
     "iopub.status.idle": "2023-02-01T11:37:15.318973Z",
     "shell.execute_reply": "2023-02-01T11:37:15.317861Z"
    },
    "papermill": {
     "duration": 0.544745,
     "end_time": "2023-02-01T11:37:15.322430",
     "exception": false,
     "start_time": "2023-02-01T11:37:14.777685",
     "status": "completed"
    },
    "tags": []
   },
   "outputs": [
    {
     "data": {
      "image/png": "[encoded data removed]",
      "text/plain": [
       "<Figure size 1080x360 with 2 Axes>"
      ]
     },
     "metadata": {},
     "output_type": "display_data"
    }
   ],
   "source": [
    "# Which times have the most trips?\n",
    "\n",
    "count_hours_jfk = pd.crosstab(index=df_jfk['pickup_hour'],columns='count',\n",
    "                             normalize='columns')\n",
    "count_hours_all = pd.crosstab(index=df['pickup_hour'],columns='count',\n",
    "                             normalize='columns')\n",
    "\n",
    "\n",
    "fig, axes = plt.subplots(1,2, sharey=True, figsize=(15,5))\n",
    "\n",
    "axes[0].set_title('Percentage of times in airport trips')\n",
    "axes[1].set_title('Percentage of times in the total journeys')\n",
    "\n",
    "sns.set_style(\"darkgrid\")\n",
    "\n",
    "sns.lineplot(data=count_hours_jfk, x='pickup_hour',\n",
    "             y= 'count', ax =axes[0]);\n",
    "\n",
    "sns.lineplot(data=count_hours_all, x='pickup_hour',\n",
    "             y= 'count', ax =axes[1]);\n",
    "\n",
    "sns.set_context(\"notebook\", font_scale=1.3, rc={\"lines.linewidth\": 2.5})\n",
    "axes[0].set_ylabel('Proportion of Trips')\n",
    "plt.subplots_adjust(wspace=0.0)"
   ]
  },
  {
   "cell_type": "markdown",
   "id": "c853ecfd",
   "metadata": {
    "papermill": {
     "duration": 0.012154,
     "end_time": "2023-02-01T11:37:15.350821",
     "exception": false,
     "start_time": "2023-02-01T11:37:15.338667",
     "status": "completed"
    },
    "tags": []
   },
   "source": [
    "Now we have a good overview of the times at which taxi traffic from the airport differs compared to all trips."
   ]
  },
  {
   "cell_type": "markdown",
   "id": "530227ff",
   "metadata": {
    "papermill": {
     "duration": 0.013326,
     "end_time": "2023-02-01T11:37:15.378061",
     "exception": false,
     "start_time": "2023-02-01T11:37:15.364735",
     "status": "completed"
    },
    "tags": []
   },
   "source": [
    "# **9) Recommendation**"
   ]
  },
  {
   "cell_type": "markdown",
   "id": "041c5414",
   "metadata": {
    "execution": {
     "iopub.execute_input": "2023-02-01T11:34:43.599652Z",
     "iopub.status.busy": "2023-02-01T11:34:43.599175Z",
     "iopub.status.idle": "2023-02-01T11:34:43.607676Z",
     "shell.execute_reply": "2023-02-01T11:34:43.606192Z",
     "shell.execute_reply.started": "2023-02-01T11:34:43.599614Z"
    },
    "papermill": {
     "duration": 0.010821,
     "end_time": "2023-02-01T11:37:15.400106",
     "exception": false,
     "start_time": "2023-02-01T11:37:15.389285",
     "status": "completed"
    },
    "tags": []
   },
   "source": [
    "The main question of this project is: So how many cabs should the cab operator provide at JFK Airport depending on the day of the week and the time? When should the taxi company have more and when fewer taxis available at the airport?"
   ]
  },
  {
   "cell_type": "code",
   "execution_count": null,
   "id": "7f2ed880",
   "metadata": {
    "papermill": {
     "duration": 0.010691,
     "end_time": "2023-02-01T11:37:15.421774",
     "exception": false,
     "start_time": "2023-02-01T11:37:15.411083",
     "status": "completed"
    },
    "tags": []
   },
   "outputs": [],
   "source": []
  }
 ],
 "metadata": {
  "kernelspec": {
   "display_name": "Python 3",
   "language": "python",
   "name": "python3"
  },
  "language_info": {
   "codemirror_mode": {
    "name": "ipython",
    "version": 3
   },
   "file_extension": ".py",
   "mimetype": "text/x-python",
   "name": "python",
   "nbconvert_exporter": "python",
   "pygments_lexer": "ipython3",
   "version": "3.7.12"
  },
  "papermill": {
   "default_parameters": {},
   "duration": 13.095433,
   "end_time": "2023-02-01T11:37:16.154432",
   "environment_variables": {},
   "exception": null,
   "input_path": "__notebook__.ipynb",
   "output_path": "__notebook__.ipynb",
   "parameters": {},
   "start_time": "2023-02-01T11:37:03.058999",
   "version": "2.3.4"
  }
 },
 "nbformat": 4,
 "nbformat_minor": 5
}
